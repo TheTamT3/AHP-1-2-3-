{
 "cells": [
  {
   "cell_type": "code",
   "execution_count": 1,
   "metadata": {},
   "outputs": [
    {
     "name": "stdout",
     "output_type": "stream",
     "text": [
      "[[1.         0.5        3.        ]\n",
      " [2.         1.         4.        ]\n",
      " [0.33333333 0.25       1.        ]]\n",
      "gia tri:  1.0\n",
      "3\n"
     ]
    }
   ],
   "source": [
    "import numpy as np\n",
    "#MA TRAN SO SANH\n",
    "matrix = np.array([[1/1,1/2,3/1],\n",
    "                  [2/1,1/1,4/1],\n",
    "                 [1/3,1/4,1/1]]);\n",
    "print(matrix);\n",
    "print(\"gia tri: \",matrix[0,0]);\n",
    "print(matrix.shape[0])"
   ]
  },
  {
   "cell_type": "code",
   "execution_count": 46,
   "metadata": {},
   "outputs": [
    {
     "name": "stdout",
     "output_type": "stream",
     "text": [
      "[3.33333333 1.75       8.        ]\n"
     ]
    }
   ],
   "source": [
    "#Tính tổng cột\n",
    "matrix_sum = np.zeros(matrix.shape[0])\n",
    "for i in range (0, matrix.shape[0]):\n",
    "    for j in range (0,matrix.shape[0]):\n",
    "        matrix_sum[i] += matrix[j,i] \n",
    "print(matrix_sum);"
   ]
  },
  {
   "cell_type": "code",
   "execution_count": 11,
   "metadata": {},
   "outputs": [
    {
     "name": "stdout",
     "output_type": "stream",
     "text": [
      "[[1.         0.5        3.        ]\n",
      " [2.         1.         4.        ]\n",
      " [0.33333333 0.25       1.        ]]\n"
     ]
    }
   ],
   "source": [
    "matrix_2 = np.copy(matrix)\n",
    "print(matrix_2);"
   ]
  },
  {
   "cell_type": "code",
   "execution_count": 12,
   "metadata": {},
   "outputs": [
    {
     "name": "stdout",
     "output_type": "stream",
     "text": [
      "[[0.3        0.28571429 0.375     ]\n",
      " [0.6        0.57142857 0.5       ]\n",
      " [0.1        0.14285714 0.125     ]]\n"
     ]
    }
   ],
   "source": [
    "#Chia giá trị cho tổng cột tương ứng\n",
    "for i in range (0, matrix.shape[0]):\n",
    "    for j in range(0, matrix.shape[0]):\n",
    "        matrix_2[j,i]/=matrix_sum[i];\n",
    "print(matrix_2);"
   ]
  },
  {
   "cell_type": "code",
   "execution_count": 51,
   "metadata": {},
   "outputs": [
    {
     "name": "stdout",
     "output_type": "stream",
     "text": [
      "Vecotor_column:\n",
      " [[0.96666667]\n",
      " [1.68809524]\n",
      " [0.36865079]]\n",
      "Vector nhat quan:\n",
      "  [[3.01858736]\n",
      " [3.02991453]\n",
      " [3.00647249]]\n",
      "Lamda max:  3.01832479413957\n",
      "Chỉ số nhất quán:  0.009162397069784944\n",
      "Tỷ số nhất quán:  0.017619994364971046\n"
     ]
    }
   ],
   "source": [
    "#Tính tổng từng hàng\n",
    "sum_rows = 0;\n",
    "sum_every_row = np.zeros(matrix_2.shape[0])\n",
    "for i in range (0, matrix_2.shape[0]):\n",
    "    for j in range(0, matrix_2.shape[0]):\n",
    "        sum_every_row[i] += matrix_2[i,j]\n",
    "    sum_rows += sum_every_row[i]\n",
    "#print(sum_rows);\n",
    "#Chia giá trị cho tổng các hàng\n",
    "order_number = np.zeros(matrix_2.shape[0])\n",
    "for i in range (0, matrix_2.shape[0]):\n",
    "        order_number[i] = sum_every_row[i]/sum_rows;\n",
    "\n",
    "#chuyển ma trận order_number thành ma trận 2 chiều\n",
    "order_number_col = order_number[:,np.newaxis]\n",
    "vector_order_number = np.dot(matrix,order_number_col);\n",
    "#print(order_number_col);\n",
    "print(\"Vecotor_column:\\n\",vector_order_number);\n",
    "consistency_vector = np.true_divide(vector_order_number, order_number_col);\n",
    "print(\"Vector nhat quan:\\n \",consistency_vector);\n",
    "#lamda max\n",
    "\n",
    "lamda_max = np.sum(consistency_vector)/(consistency_vector.shape[0]);\n",
    "print(\"Lamda max: \",lamda_max);\n",
    "#tinh CI\n",
    "_CI = (lamda_max-matrix.shape[0])/(matrix.shape[0]-1);\n",
    "print(\"Chỉ số nhất quán: \",_CI)\n",
    "#tinh CR\n",
    "_CR = _CI/0.52; # CR = CI/RI, chỉ số RI dựa vào bảng \n",
    "print(\"Tỷ số nhất quán: \",_CR);"
   ]
  },
  {
   "cell_type": "code",
   "execution_count": 34,
   "metadata": {},
   "outputs": [
    {
     "ename": "NameError",
     "evalue": "name 'consistency_col' is not defined",
     "output_type": "error",
     "traceback": [
      "\u001b[1;31m---------------------------------------------------------------------------\u001b[0m",
      "\u001b[1;31mNameError\u001b[0m                                 Traceback (most recent call last)",
      "\u001b[1;32m<ipython-input-34-1efe3b70fb73>\u001b[0m in \u001b[0;36m<module>\u001b[1;34m\u001b[0m\n\u001b[0;32m      1\u001b[0m \u001b[0mconsistency_vector\u001b[0m \u001b[1;33m=\u001b[0m \u001b[0mnp\u001b[0m\u001b[1;33m.\u001b[0m\u001b[0mtrue_divide\u001b[0m\u001b[1;33m(\u001b[0m\u001b[0mvector_order_number\u001b[0m\u001b[1;33m,\u001b[0m \u001b[0morder_number_col\u001b[0m\u001b[1;33m)\u001b[0m\u001b[1;33m;\u001b[0m\u001b[1;33m\u001b[0m\u001b[1;33m\u001b[0m\u001b[0m\n\u001b[1;32m----> 2\u001b[1;33m \u001b[0mprint\u001b[0m\u001b[1;33m(\u001b[0m\u001b[0mconsistency_col\u001b[0m\u001b[1;33m)\u001b[0m\u001b[1;33m;\u001b[0m\u001b[1;33m\u001b[0m\u001b[1;33m\u001b[0m\u001b[0m\n\u001b[0m",
      "\u001b[1;31mNameError\u001b[0m: name 'consistency_col' is not defined"
     ]
    }
   ],
   "source": []
  },
  {
   "cell_type": "code",
   "execution_count": null,
   "metadata": {},
   "outputs": [],
   "source": []
  }
 ],
 "metadata": {
  "kernelspec": {
   "display_name": "Python 3",
   "language": "python",
   "name": "python3"
  },
  "language_info": {
   "codemirror_mode": {
    "name": "ipython",
    "version": 3
   },
   "file_extension": ".py",
   "mimetype": "text/x-python",
   "name": "python",
   "nbconvert_exporter": "python",
   "pygments_lexer": "ipython3",
   "version": "3.7.6"
  }
 },
 "nbformat": 4,
 "nbformat_minor": 4
}
