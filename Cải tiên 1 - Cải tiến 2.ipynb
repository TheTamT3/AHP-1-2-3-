{
 "cells": [
  {
   "cell_type": "code",
   "execution_count": 7,
   "metadata": {},
   "outputs": [
    {
     "name": "stdout",
     "output_type": "stream",
     "text": [
      "[[1.  3.  0.5 2. ]\n",
      " [0.  1.  0.  0. ]\n",
      " [0.  0.  1.  0. ]\n",
      " [0.  0.  0.  1. ]]\n",
      "gia tri:  1.0\n",
      "4\n"
     ]
    }
   ],
   "source": [
    "# Cải tiến 1\n",
    "#Xây dựng n-1 phần từ  có dạng a(1)(n)\n",
    "import numpy as np\n",
    "#MA TRAN SO SANH\n",
    "matrix = np.array([[1, 3 , 1/2, 2 ],\n",
    "                  [0 , 1,  0,  0],\n",
    "                  [0, 0,   1,  0],\n",
    "                  [0, 0,   0,  1]]);\n",
    "print(matrix); \n",
    "print(\"gia tri: \",matrix[0,0])\n",
    "print(matrix.shape[0])"
   ]
  },
  {
   "cell_type": "code",
   "execution_count": 38,
   "metadata": {},
   "outputs": [
    {
     "name": "stdout",
     "output_type": "stream",
     "text": [
      "[[1.         3.         0.5        2.        ]\n",
      " [0.33333333 1.         0.         0.        ]\n",
      " [2.                inf 1.         0.        ]\n",
      " [0.5               inf        inf 1.        ]]\n"
     ]
    },
    {
     "name": "stderr",
     "output_type": "stream",
     "text": [
      "D:\\Anaconda3\\lib\\site-packages\\ipykernel_launcher.py:7: RuntimeWarning: divide by zero encountered in double_scalars\n",
      "  import sys\n"
     ]
    }
   ],
   "source": [
    "matrix_2 = np.copy(matrix);\n",
    "row,col = matrix_2.shape;\n",
    "\n",
    "for i in range (0, row):\n",
    "    for j in range(0, col):\n",
    "        if (i!=j):\n",
    "            matrix_2[j,i] = 1/matrix_2[i,j]\n",
    "            \n",
    "        \n",
    "print(matrix_2);"
   ]
  },
  {
   "cell_type": "code",
   "execution_count": 39,
   "metadata": {},
   "outputs": [
    {
     "name": "stdout",
     "output_type": "stream",
     "text": [
      "[[1.         3.         0.5        2.        ]\n",
      " [0.33333333 1.         0.16666667 0.66666667]\n",
      " [2.                inf 1.         4.        ]\n",
      " [0.5               inf        inf 1.        ]]\n"
     ]
    }
   ],
   "source": [
    "#matrix_2 = np.copy(matrix);\n",
    "#row,col = matrix_2.shape;\n",
    "for i in range (1, row-1):\n",
    "    for j in range(2, col):\n",
    "        matrix_2[i,j] = 1/matrix_2[j,i];\n",
    "        matrix_2[i,j] = matrix_2[i,0] * matrix_2[0,j];\n",
    "print(matrix_2);\n",
    "        \n",
    "        \n",
    "        "
   ]
  },
  {
   "cell_type": "code",
   "execution_count": 40,
   "metadata": {},
   "outputs": [
    {
     "name": "stdout",
     "output_type": "stream",
     "text": [
      "[[1.         3.         0.5        2.        ]\n",
      " [0.33333333 1.         0.16666667 0.66666667]\n",
      " [2.         6.         1.         4.        ]\n",
      " [0.5        1.5        0.25       1.        ]]\n"
     ]
    }
   ],
   "source": [
    "for i in range (0, row):\n",
    "    for j in range(0, col):\n",
    "        if (i!=j):\n",
    "            matrix_2[j,i] = 1/matrix_2[i,j]\n",
    "            \n",
    "        \n",
    "print(matrix_2);"
   ]
  },
  {
   "cell_type": "code",
   "execution_count": 41,
   "metadata": {},
   "outputs": [
    {
     "name": "stdout",
     "output_type": "stream",
     "text": [
      "[[1.         3.         0.         0.        ]\n",
      " [0.         1.         0.16666667 0.        ]\n",
      " [0.         0.         1.         4.        ]\n",
      " [0.         0.         0.         1.        ]]\n"
     ]
    }
   ],
   "source": [
    "#Cải tiến 2\n",
    "#Xây dựng n-1 phần từ  có dạng a(1)(n)\n",
    "#MA TRAN SO SANH\n",
    "matrix = np.array([[1, 3 , 0, 0 ],\n",
    "                  [0 , 1,  1/6,  0],\n",
    "                  [0, 0,   1,  4],\n",
    "                  [0, 0,   0,  1]]);\n",
    "print(matrix)"
   ]
  },
  {
   "cell_type": "code",
   "execution_count": 46,
   "metadata": {},
   "outputs": [
    {
     "name": "stdout",
     "output_type": "stream",
     "text": [
      "[[1.         3.         0.5        2.        ]\n",
      " [0.         1.         0.16666667 0.66666667]\n",
      " [0.         0.         1.         4.        ]\n",
      " [0.         0.         0.         1.        ]]\n"
     ]
    },
    {
     "name": "stderr",
     "output_type": "stream",
     "text": [
      "D:\\Anaconda3\\lib\\site-packages\\ipykernel_launcher.py:6: RuntimeWarning: divide by zero encountered in double_scalars\n",
      "  \n"
     ]
    }
   ],
   "source": [
    "matrix_2 = np.copy(matrix);\n",
    "row,col = matrix_2.shape\n",
    "for i in range(0,row):\n",
    "    for j in range (0, col):\n",
    "        if(matrix_2[i,j]==0 and i<j-1):\n",
    "            matrix_2[i,j] = 1/ matrix[j,i];\n",
    "            matrix_2[i,j] = matrix_2[i,j-1]*matrix_2[j-1,j]\n",
    "print(matrix_2);"
   ]
  },
  {
   "cell_type": "code",
   "execution_count": 47,
   "metadata": {},
   "outputs": [
    {
     "name": "stdout",
     "output_type": "stream",
     "text": [
      "[[1.         3.         0.5        2.        ]\n",
      " [0.33333333 1.         0.16666667 0.66666667]\n",
      " [2.         6.         1.         4.        ]\n",
      " [0.5        1.5        0.25       1.        ]]\n"
     ]
    }
   ],
   "source": [
    "for i in range (0, row):\n",
    "    for j in range(0, col):\n",
    "        if (i!=j):\n",
    "            matrix_2[j,i] = 1/matrix_2[i,j]\n",
    "            \n",
    "        \n",
    "print(matrix_2);"
   ]
  }
 ],
 "metadata": {
  "kernelspec": {
   "display_name": "Python 3",
   "language": "python",
   "name": "python3"
  },
  "language_info": {
   "codemirror_mode": {
    "name": "ipython",
    "version": 3
   },
   "file_extension": ".py",
   "mimetype": "text/x-python",
   "name": "python",
   "nbconvert_exporter": "python",
   "pygments_lexer": "ipython3",
   "version": "3.7.6"
  }
 },
 "nbformat": 4,
 "nbformat_minor": 4
}
